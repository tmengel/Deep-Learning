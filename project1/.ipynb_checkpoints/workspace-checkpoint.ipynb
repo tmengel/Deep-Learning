{
 "cells": [
  {
   "cell_type": "code",
   "execution_count": 127,
   "metadata": {
    "scrolled": false
   },
   "outputs": [
    {
     "name": "stdout",
     "output_type": "stream",
     "text": [
      "neural network constructor\n",
      "fully connected constructor\n",
      "fully connected constructor\n",
      "fully connected constructor\n",
      "fully connected calculate\n",
      "calculate\n",
      "calculate\n",
      "fully connected calculate\n",
      "calculate\n",
      "calculate\n",
      "calculate\n",
      "fully connected calculate\n",
      "calculate\n",
      "lossderiv\n",
      "fully connected calcwdeltas\n",
      "calcpartialderivative\n",
      "activationderivative\n",
      "updateweight\n",
      "fully connected calcwdeltas\n",
      "calcpartialderivative\n",
      "activationderivative\n",
      "updateweight\n",
      "calcpartialderivative\n",
      "activationderivative\n",
      "updateweight\n",
      "calcpartialderivative\n",
      "activationderivative\n",
      "updateweight\n",
      "train\n"
     ]
    }
   ],
   "source": [
    "# Project 1: Neurons\n",
    "\n",
    "execfile(\"ANN.py\")\n",
    "\n",
    "inp = [0.5,0.5]\n",
    "# aneuron.calculate(inp)\n",
    "# fc = FullyConnected(3,\"linear\",2)\n",
    "# fc.calculate(inp)\n",
    "acts = [\"linear\",\"logistic\",\"linear\"]\n",
    "neurs = [2,3]\n",
    "nn = NeuralNetwork(2,neurs,len(inp),acts,\"mse\")\n",
    "\n",
    "nn.train(inp,0.25)"
   ]
  },
  {
   "cell_type": "code",
   "execution_count": null,
   "metadata": {},
   "outputs": [],
   "source": []
  }
 ],
 "metadata": {
  "kernelspec": {
   "display_name": "Python 3 (ipykernel)",
   "language": "python",
   "name": "python3"
  },
  "language_info": {
   "codemirror_mode": {
    "name": "ipython",
    "version": 3
   },
   "file_extension": ".py",
   "mimetype": "text/x-python",
   "name": "python",
   "nbconvert_exporter": "python",
   "pygments_lexer": "ipython3",
   "version": "3.9.6"
  }
 },
 "nbformat": 4,
 "nbformat_minor": 2
}
