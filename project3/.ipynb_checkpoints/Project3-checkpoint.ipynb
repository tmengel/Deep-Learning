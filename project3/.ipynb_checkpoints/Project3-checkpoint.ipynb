{
 "cells": [
  {
   "cell_type": "markdown",
   "id": "3c9150a5",
   "metadata": {},
   "source": [
    "Project 3"
   ]
  },
  {
   "cell_type": "code",
   "execution_count": 42,
   "id": "2d9424b3",
   "metadata": {},
   "outputs": [],
   "source": [
    "import tensorflow as tf\n",
    "import numpy as np\n",
    "import pandas as pd\n",
    "\n",
    "#Not sure if we can use this..\n",
    "import matplotlib.pyplot as plt\n",
    "\n",
    "#import the data\n",
    "n = 10\n",
    "trainLabels = pd.read_csv('fairface_label_train.csv')[:n]\n",
    "trainImgs = []\n",
    "for i in range(n):\n",
    "    img = plt.imread(trainLabels.iloc[i]['file'])\n",
    "    trainImgs.append(img)\n",
    "trainImgs = np.array(trainImgs)\n",
    "trainMin = np.amin(trainImgs)\n",
    "trainMax = np.amax(trainImgs)\n",
    "trainImgs = (trainImgs-trainMin)/(trainMax-trainMin)\n",
    "\n",
    "# ages_hot = trainLabels.loc[:,'age']\n"
   ]
  },
  {
   "cell_type": "markdown",
   "id": "4893c850",
   "metadata": {},
   "source": [
    "Fully Connected Neural Network"
   ]
  },
  {
   "cell_type": "code",
   "execution_count": 38,
   "id": "44660ee8",
   "metadata": {},
   "outputs": [
    {
     "name": "stdout",
     "output_type": "stream",
     "text": [
      "Model: \"sequential_1\"\n",
      "_________________________________________________________________\n",
      "Layer (type)                 Output Shape              Param #   \n",
      "=================================================================\n",
      "dense_4 (Dense)              (None, 1024)              1328128   \n",
      "_________________________________________________________________\n",
      "dense_5 (Dense)              (None, 512)               524800    \n",
      "_________________________________________________________________\n",
      "dense_6 (Dense)              (None, 100)               51300     \n",
      "_________________________________________________________________\n",
      "dense_7 (Dense)              (None, 2)                 202       \n",
      "=================================================================\n",
      "Total params: 1,904,430\n",
      "Trainable params: 1,904,430\n",
      "Non-trainable params: 0\n",
      "_________________________________________________________________\n"
     ]
    }
   ],
   "source": [
    "# outsize =  #Age\n",
    "# outsize =  #Race\n",
    "outsize = 2 #Gender\n",
    "model = tf.keras.Sequential([\n",
    "    tf.keras.layers.Dense(1024,input_shape=(36*36,), activation='tanh'),\n",
    "    tf.keras.layers.Dense(512,activation='sigmoid'),\n",
    "    tf.keras.layers.Dense(100,activation='relu'),\n",
    "    tf.keras.layers.Dense(outsize,activation='softmax')\n",
    "])\n",
    "model.summary()"
   ]
  },
  {
   "cell_type": "code",
   "execution_count": null,
   "id": "827056cc",
   "metadata": {},
   "outputs": [],
   "source": []
  },
  {
   "cell_type": "markdown",
   "id": "d170bb09",
   "metadata": {},
   "source": [
    "Small Convolutional Neural Network"
   ]
  },
  {
   "cell_type": "code",
   "execution_count": 46,
   "id": "dada440c",
   "metadata": {},
   "outputs": [
    {
     "name": "stdout",
     "output_type": "stream",
     "text": [
      "Model: \"sequential_4\"\n",
      "_________________________________________________________________\n",
      "Layer (type)                 Output Shape              Param #   \n",
      "=================================================================\n",
      "conv2d_2 (Conv2D)            (None, 32, 32, 40)        1040      \n",
      "_________________________________________________________________\n",
      "max_pooling2d_2 (MaxPooling2 (None, 16, 16, 40)        0         \n",
      "_________________________________________________________________\n",
      "flatten_2 (Flatten)          (None, 10240)             0         \n",
      "_________________________________________________________________\n",
      "dense_12 (Dense)             (None, 100)               1024100   \n",
      "_________________________________________________________________\n",
      "dense_13 (Dense)             (None, 2)                 202       \n",
      "=================================================================\n",
      "Total params: 1,025,342\n",
      "Trainable params: 1,025,342\n",
      "Non-trainable params: 0\n",
      "_________________________________________________________________\n"
     ]
    }
   ],
   "source": [
    "model = tf.keras.Sequential([\n",
    "    tf.keras.layers.Conv2D(40,input_shape=(36,36,1),kernel_size=(5,5),strides=1,padding='valid', activation='relu'),\n",
    "    tf.keras.layers.MaxPool2D(pool_size=(2,2)),\n",
    "    tf.keras.layers.Flatten(),\n",
    "    tf.keras.layers.Dense(100,activation='relu'),\n",
    "    tf.keras.layers.Dense(outsize,activation='softmax')\n",
    "])\n",
    "model.summary()"
   ]
  },
  {
   "cell_type": "code",
   "execution_count": null,
   "id": "ddbf6c6e",
   "metadata": {},
   "outputs": [],
   "source": []
  },
  {
   "cell_type": "markdown",
   "id": "ea40efe7",
   "metadata": {},
   "source": [
    "Our Own Convolutional Neural Network"
   ]
  },
  {
   "cell_type": "code",
   "execution_count": 47,
   "id": "cbca567d",
   "metadata": {},
   "outputs": [
    {
     "name": "stdout",
     "output_type": "stream",
     "text": [
      "Model: \"sequential_5\"\n",
      "_________________________________________________________________\n",
      "Layer (type)                 Output Shape              Param #   \n",
      "=================================================================\n",
      "conv2d_3 (Conv2D)            (None, 32, 32, 40)        1040      \n",
      "_________________________________________________________________\n",
      "max_pooling2d_3 (MaxPooling2 (None, 16, 16, 40)        0         \n",
      "_________________________________________________________________\n",
      "flatten_3 (Flatten)          (None, 10240)             0         \n",
      "_________________________________________________________________\n",
      "dense_14 (Dense)             (None, 100)               1024100   \n",
      "_________________________________________________________________\n",
      "dense_15 (Dense)             (None, 2)                 202       \n",
      "=================================================================\n",
      "Total params: 1,025,342\n",
      "Trainable params: 1,025,342\n",
      "Non-trainable params: 0\n",
      "_________________________________________________________________\n"
     ]
    }
   ],
   "source": [
    "# Needs to be adjusted\n",
    "\n",
    "model = tf.keras.Sequential([\n",
    "    tf.keras.layers.Conv2D(40,input_shape=(36,36,1),kernel_size=(5,5),strides=1,padding='valid', activation='relu'),\n",
    "    tf.keras.layers.MaxPool2D(pool_size=(2,2)),\n",
    "    tf.keras.layers.Flatten(),\n",
    "    tf.keras.layers.Dense(100,activation='relu'),\n",
    "    tf.keras.layers.Dense(outsize,activation='softmax')\n",
    "])\n",
    "model.summary()"
   ]
  },
  {
   "cell_type": "code",
   "execution_count": null,
   "id": "8eedb9e1",
   "metadata": {},
   "outputs": [],
   "source": []
  },
  {
   "cell_type": "markdown",
   "id": "42304282",
   "metadata": {},
   "source": [
    "Multi-Task Convolutional Neural Network"
   ]
  },
  {
   "cell_type": "code",
   "execution_count": null,
   "id": "8b5c0da1",
   "metadata": {},
   "outputs": [],
   "source": []
  }
 ],
 "metadata": {
  "kernelspec": {
   "display_name": "Python 3 (ipykernel)",
   "language": "python",
   "name": "python3"
  },
  "language_info": {
   "codemirror_mode": {
    "name": "ipython",
    "version": 3
   },
   "file_extension": ".py",
   "mimetype": "text/x-python",
   "name": "python",
   "nbconvert_exporter": "python",
   "pygments_lexer": "ipython3",
   "version": "3.9.6"
  }
 },
 "nbformat": 4,
 "nbformat_minor": 5
}
