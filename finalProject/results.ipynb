{
 "cells": [
  {
   "cell_type": "code",
   "execution_count": 1,
   "metadata": {},
   "outputs": [
    {
     "name": "stdout",
     "output_type": "stream",
     "text": [
      "Not in Colab\n"
     ]
    },
    {
     "name": "stderr",
     "output_type": "stream",
     "text": [
      "2023-05-14 15:01:17.491381: I tensorflow/core/platform/cpu_feature_guard.cc:193] This TensorFlow binary is optimized with oneAPI Deep Neural Network Library (oneDNN) to use the following CPU instructions in performance-critical operations:  AVX2 FMA\n",
      "To enable them in other operations, rebuild TensorFlow with the appropriate compiler flags.\n",
      "2023-05-14 15:01:19.027171: W tensorflow/compiler/xla/stream_executor/platform/default/dso_loader.cc:64] Could not load dynamic library 'libcudart.so.11.0'; dlerror: libcudart.so.11.0: cannot open shared object file: No such file or directory; LD_LIBRARY_PATH: /home/tmengel/root/lib\n",
      "2023-05-14 15:01:19.027436: I tensorflow/compiler/xla/stream_executor/cuda/cudart_stub.cc:29] Ignore above cudart dlerror if you do not have a GPU set up on your machine.\n",
      "2023-05-14 15:01:20.652668: W tensorflow/compiler/xla/stream_executor/platform/default/dso_loader.cc:64] Could not load dynamic library 'libnvinfer.so.7'; dlerror: libnvinfer.so.7: cannot open shared object file: No such file or directory; LD_LIBRARY_PATH: /home/tmengel/root/lib\n",
      "2023-05-14 15:01:20.652966: W tensorflow/compiler/xla/stream_executor/platform/default/dso_loader.cc:64] Could not load dynamic library 'libnvinfer_plugin.so.7'; dlerror: libnvinfer_plugin.so.7: cannot open shared object file: No such file or directory; LD_LIBRARY_PATH: /home/tmengel/root/lib\n",
      "2023-05-14 15:01:20.652977: W tensorflow/compiler/tf2tensorrt/utils/py_utils.cc:38] TF-TRT Warning: Cannot dlopen some TensorRT libraries. If you would like to use Nvidia GPU with TensorRT, please make sure the missing libraries mentioned above are installed properly.\n"
     ]
    }
   ],
   "source": [
    "try:\n",
    "    from google.colab import drive\n",
    "    drive.mount('/content/drive')   \n",
    "    RUNNING_IN_COLAB = True\n",
    "    \n",
    "except:\n",
    "    print(\"Not in Colab\")\n",
    "    RUNNING_IN_COLAB = False\n",
    "    \n",
    "if RUNNING_IN_COLAB:\n",
    "    print(\"Running in Colab\")\n",
    "    #pull git repo and install requirements\n",
    "    !git clone https://github.com/tmengel/Deep-Learning.git\n",
    "    %cd Deep-Learning/finalProject\n",
    "    %pip install uproot\n",
    "    %pip install pandas\n",
    "    %pip install pickle\n",
    "\n",
    "\n",
    "import pulsenet as pn\n",
    "import pandas as pd  \n",
    "import tensorflow as tf\n",
    "from tensorflow import keras\n",
    "from keras import layers, models\n",
    "import pickle as pkl\n",
    "import numpy as np\n",
    "from sklearn.metrics import roc_curve"
   ]
  },
  {
   "cell_type": "code",
   "execution_count": null,
   "metadata": {},
   "outputs": [],
   "source": [
    "filename = \"ysoTracesWithPileup.root\"\n",
    "if RUNNING_IN_COLAB:\n",
    "    filename = \"/content/drive/MyDrive/DeepLearningFinalProject/ysoTracesWithPileup.root\"\n",
    "\n",
    "def GetData(filename, pileup_split=0.5, phase_min=0.1, phase_max=20, amplitude_min=0.5, amplitude_max=1.5):\n",
    "    x_trace, y_trace, y_phase, y_amp = pn.CreateData(filename, pileup_split=pileup_split, phase_min=phase_min, phase_max=phase_max, amplitude_min=amplitude_min, amplitude_max=amplitude_max)\n",
    "    y_pileup = pn.EncodePileup(y_phase)\n",
    "    return x_trace, y_trace, y_phase, y_amp, y_pileup\n",
    "\n",
    "def GetResults(model, phaseMin,phaseMax, filename):\n",
    "    x_trace, y_trace, y_phase, y_amp, y_pileup = GetData(filename=filename, pileup_split=0.5, phase_min=phaseMin, phase_max=phaseMax, amplitude_min=0.5, amplitude_max=1.5)\n",
    "    pred_trace, pred_phase, pred_amp, pred_pileup = model.predict(x_trace)\n",
    "    n_samples = x_trace.shape[0]\n",
    "    # separate out the traces\n",
    "    pred_trace1 = pred_trace[:,0,:].reshape(-1, 300)\n",
    "    pred_trace2 = pred_trace[:,1,:].reshape(-1, 300)\n",
    "    y_trace1 = y_trace[:,0,:].reshape(-1, 300)\n",
    "    y_trace2 = y_trace[:,1,:].reshape(-1, 300)\n",
    "    x_trace = x_trace.reshape(-1, 300)\n",
    "    \n",
    "    # calculate residuals\n",
    "    res_trace1 = pred_trace1 - y_trace1\n",
    "    res_trace2 = pred_trace2 - y_trace2\n",
    "    res_trace_total = pred_trace - y_trace\n",
    "    res_phase = pred_phase - y_phase\n",
    "    res_amp = pred_amp - y_amp\n",
    "    \n",
    "    average_res_trace1 = np.mean(res_trace1, axis=0)\n",
    "    average_res_trace2 = np.mean(res_trace2, axis=0)\n",
    "    std_res_trace1 = np.std(res_trace1, axis=0)\n",
    "    std_res_trace2 = np.std(res_trace2, axis=0)\n",
    "    \n",
    "    fpr, tpr, thresholds = roc_curve(y_pileup, pred_pileup)\n",
    "    \n",
    "    loss, acc = model.evaluate(x_trace, [y_trace, y_phase, y_amp, y_pileup])\n",
    "    \n",
    "    result = {\n",
    "            \"loss\": loss,\n",
    "            \"acc\": acc,\n",
    "            \"n_samples\": n_samples,\n",
    "            \"x_trace\": x_trace,\n",
    "            \"y_trace\": y_trace,\n",
    "            \"y_phase\": y_phase,\n",
    "            \"y_amp\": y_amp,\n",
    "            \"y_pileup\": y_pileup,\n",
    "            \"pred_trace\": pred_trace,\n",
    "            \"pred_phase\": pred_phase,\n",
    "            \"pred_amp\": pred_amp,\n",
    "            \"pred_pileup\": pred_pileup,\n",
    "            \"res_trace1\": res_trace1,\n",
    "            \"res_trace2\": res_trace2,\n",
    "            \"res_trace_total\": res_trace_total,\n",
    "            \"res_phase\": res_phase,\n",
    "            \"res_amp\": res_amp,\n",
    "            \"average_res_trace1\": average_res_trace1,\n",
    "            \"average_res_trace2\": average_res_trace2,\n",
    "            \"std_res_trace1\": std_res_trace1,\n",
    "            \"std_res_trace2\": std_res_trace2,\n",
    "            \"fpr\": fpr, \"tpr\": tpr, \"thresholds\": thresholds}\n",
    "    \n",
    "    return result\n",
    "    "
   ]
  },
  {
   "cell_type": "code",
   "execution_count": null,
   "metadata": {},
   "outputs": [],
   "source": [
    "input = layers.Input(shape=(1, 300))  # Returns a placeholder tensor\n",
    "classifer_feature_vec = pn.TraceClassifierBase(name = \"classifier_base\")(input)\n",
    "classifier_output = pn.TraceClassifierHead(name = \"classifier\")(classifer_feature_vec)\n",
    "phase_output = pn.TracePhaseRegressor(name=\"phase\")(input)\n",
    "amplitude_output = pn.TraceAmplitudeRegressor(name =\"amplitude\")(input)\n",
    "discriminator_feature_vec = pn.TraceDiscriminatorBase(name = \"discriminator_base\")(input)\n",
    "trace_output = pn.TraceDiscriminatorHead(name = \"discriminator\")(discriminator_feature_vec)\n",
    "\n",
    "\n",
    "model = models.Model(inputs=input, outputs=[trace_output, phase_output, amplitude_output, classifier_output])\n",
    "model.compile(optimizer='adam', loss=[\"mse\", \"mse\", \"mse\", \"bce\"], metrics='accuracy')\n",
    "model.build(input_shape=(None, 1, 300))\n",
    "model_names = [model.layers[i].name for i in range(len(model.layers))]\n",
    "model.layers[model_names.index(\"discriminator_base\")].load_weights('weights/individual_discriminator_base_weights.h5')\n",
    "model.layers[model_names.index(\"discriminator\")].load_weights('weights/individual_discriminator_head_weights.h5')\n",
    "model.layers[model_names.index(\"classifier_base\")].load_weights('weights/individual_classifier_base_weights.h5')\n",
    "model.layers[model_names.index(\"classifier\")].load_weights('weights/individual_classifier_head_weights.h5')\n",
    "model.layers[model_names.index(\"phase\")].load_weights('weights/individual_phase_weights_contingent.h5')\n",
    "model.layers[model_names.index(\"amplitude\")].load_weights('weights/individual_amplitude_weights_contingent.h5')\n",
    "model.save('models/TraceNet.h5')\n",
    "\n",
    "!cp -rf models/TraceNet.h5 /content/drive/MyDrive/DeepLearningFinalProject/"
   ]
  },
  {
   "cell_type": "code",
   "execution_count": 5,
   "metadata": {},
   "outputs": [
    {
     "name": "stdout",
     "output_type": "stream",
     "text": [
      "20.0\n"
     ]
    }
   ],
   "source": [
    "phase_shift_bins = [0.1, 5.0, 10.0, 20.0] # 0 , 10, 20, 40 ns\n",
    "results = {}\n",
    "results[f'phase_shift_{int(phase_shift_bins[0]*2)}to{int(phase_shift_bins[-1]*2)}ns'] = GetResults(model, phaseMin=phase_shift_bins[0], phaseMax=phase_shift_bins[-1], filename=filename)\n",
    "for i in range(len(phase_shift_bins)-1):\n",
    "    print(f'phase_shift_{int(phase_shift_bins[i]*2)}to{int(phase_shift_bins[i+1]*2)}ns')\n",
    "    results[f'phase_shift_{int(phase_shift_bins[i]*2)}to{int(phase_shift_bins[i+1]*2)}ns'] = GetResults(model, phaseMin=phase_shift_bins[i], phaseMax=phase_shift_bins[i+1], filename=filename)\n",
    "\n",
    "\n",
    "with open('results.pickle', 'wb') as handle:\n",
    "    pkl.dump(results, handle, protocol=pkl.HIGHEST_PROTOCOL)\n",
    "    \n",
    "!cp -rf results.pickle /content/drive/MyDrive/DeepLearningFinalProject/"
   ]
  },
  {
   "cell_type": "code",
   "execution_count": null,
   "metadata": {},
   "outputs": [],
   "source": []
  },
  {
   "cell_type": "code",
   "execution_count": null,
   "metadata": {},
   "outputs": [],
   "source": []
  }
 ],
 "metadata": {
  "kernelspec": {
   "display_name": "Python 3",
   "language": "python",
   "name": "python3"
  },
  "language_info": {
   "codemirror_mode": {
    "name": "ipython",
    "version": 3
   },
   "file_extension": ".py",
   "mimetype": "text/x-python",
   "name": "python",
   "nbconvert_exporter": "python",
   "pygments_lexer": "ipython3",
   "version": "3.8.10"
  },
  "orig_nbformat": 4
 },
 "nbformat": 4,
 "nbformat_minor": 2
}
